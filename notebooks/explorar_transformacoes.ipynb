{
 "cells": [
  {
   "cell_type": "markdown",
   "id": "e3e4578e",
   "metadata": {},
   "source": [
    "# ⚙️ Exploração das Transformações\n",
    "\n",
    "### Objetivo:\n",
    "Verificar se as **transformações realizadas** na etapa anterior (limpeza e padronização) foram aplicadas corretamente.  \n",
    "O foco aqui é garantir consistência e integridade nos dados antes de enriquecer com a API do Google Maps.\n",
    "\n",
    "---\n",
    "\n",
    "### Pontos de validação:\n",
    "- Se os tipos de dados estão corretos (inteiros, floats, strings). ,\n",
    "- Colunas padronizadas (evitando por ex: nomes em Title Case, campos com espaços extras), \n",
    "- Ausência de valores nulos em colunas críticas,\n",
    "- Coerência dos valores transformados.\n",
    "\n",
    "---\n",
    "\n",
    "> *Pequenos erros de normalização podem comprometer a etapa de enrichment — aqui é onde será detectado para auxiliar a correção.*"
   ]
  },
  {
   "cell_type": "code",
   "execution_count": null,
   "id": "1cdd0bb1",
   "metadata": {},
   "outputs": [],
   "source": [
    "import pandas as pd\n",
    "\n",
    "df = pd.read_parquet(\"../data/tmp/transformed.parquet\")\n",
    "\n",
    "print(df.dtypes)\n",
    "print(df[\"curso\"].unique())\n",
    "\n",
    "# Checa se não há valores nulos em colunas críticas\n",
    "print(df.isnull().sum())"
   ]
  }
 ],
 "metadata": {
  "kernelspec": {
   "display_name": "Python 3",
   "language": "python",
   "name": "python3"
  },
  "language_info": {
   "codemirror_mode": {
    "name": "ipython",
    "version": 3
   },
   "file_extension": ".py",
   "mimetype": "text/x-python",
   "name": "python",
   "nbconvert_exporter": "python",
   "pygments_lexer": "ipython3",
   "version": "3.13.5"
  }
 },
 "nbformat": 4,
 "nbformat_minor": 5
}
