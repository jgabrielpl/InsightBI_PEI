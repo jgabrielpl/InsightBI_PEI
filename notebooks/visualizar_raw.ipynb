{
 "cells": [
  {
   "cell_type": "markdown",
   "id": "06d7b5dd",
   "metadata": {},
   "source": [
    "------------------------------------------------\n",
    "\n",
    "## Visualização dos Dados Brutos\n",
    "\n",
    "### Objetivo:\n",
    "Nesta etapa, o objetivo é **carregar e inspecionar os dados brutos** provenientes do arquivo `dados_alunos.csv`, garantindo que:\n",
    "- O formato do dataset esteja correto,\n",
    "- Todas as colunas esperadas existam, \n",
    "- Não existam anomalias ou valores ausentes significativos.  \n",
    "\n",
    "---\n",
    "\n",
    "> *Essa verificação garante que as próximas etapas do ETL trabalhem com uma base sólida.*\n",
    "\n"
   ]
  },
  {
   "cell_type": "code",
   "execution_count": null,
   "id": "06863edc",
   "metadata": {},
   "outputs": [],
   "source": [
    "import pandas as pd\n",
    "\n",
    "df = pd.read_csv('../data/raw/dados_alunos.csv')\n",
    "print(f\"Total de registros: {len(df)}\")\n",
    "display(df.head(10))\n",
    "df.info()"
   ]
  },
  {
   "cell_type": "markdown",
   "id": "69ce1fb9",
   "metadata": {},
   "source": [
    "\n",
    "---\n",
    "\n",
    "### 2️⃣ Visualizando X alunos que evadiram:\n"
   ]
  },
  {
   "cell_type": "code",
   "execution_count": null,
   "id": "95748a32",
   "metadata": {},
   "outputs": [],
   "source": [
    "import pandas as pd\n",
    "\n",
    "path = '../data/raw/dados_alunos.csv'\n",
    "df = pd.read_csv(path)\n",
    "\n",
    "evadidos = df[df[\"evadido\"] == \"Sim\"]\n",
    "\n",
    "display(evadidos.sample(5))"
   ]
  }
 ],
 "metadata": {
  "kernelspec": {
   "display_name": "Python 3",
   "language": "python",
   "name": "python3"
  },
  "language_info": {
   "codemirror_mode": {
    "name": "ipython",
    "version": 3
   },
   "file_extension": ".py",
   "mimetype": "text/x-python",
   "name": "python",
   "nbconvert_exporter": "python",
   "pygments_lexer": "ipython3",
   "version": "3.13.5"
  }
 },
 "nbformat": 4,
 "nbformat_minor": 5
}
